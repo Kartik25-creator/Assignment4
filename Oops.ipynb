{
  "nbformat": 4,
  "nbformat_minor": 0,
  "metadata": {
    "colab": {
      "provenance": []
    },
    "kernelspec": {
      "name": "python3",
      "display_name": "Python 3"
    },
    "language_info": {
      "name": "python"
    }
  },
  "cells": [
    {
      "cell_type": "markdown",
      "source": [
        "# Theoretical Questions"
      ],
      "metadata": {
        "id": "0Lsu3AEVjWva"
      }
    },
    {
      "cell_type": "markdown",
      "source": [
        "#### #1.What is Object-Oriented Programming (OOP)?\n",
        "##### #Ans.Object-Oriented Programming (OOP) is a programming paradigm that uses \"objects\" to structure and organize code.In OOP,an object is a self-contained unit that consists of both data and methods (functions) that operate on that data.These objects interact with each other to perform the tasks of the program.OOP is designed to model real-world systems more naturally by focusing on entities and their behaviors."
      ],
      "metadata": {
        "id": "5YVRjmLJjtdw"
      }
    },
    {
      "cell_type": "markdown",
      "source": [
        "#### #2.What is a class in OOP?\n",
        "##### #Ans.In Object-Oriented Programming (OOP),a class is a blueprint or template for creating objects.It defines the attributes (data or properties) and methods (functions or behaviors) that objects of that class will have.A class does not represent a specific object but provides the structure to create multiple objects with similar characteristics and behaviors.For example,a Car class might define attributes like make,model and color and methods like start() and drive().When an object is created from the class,it is called instantiation and it will have its own values for the attributes and can use the methods defined in the class."
      ],
      "metadata": {
        "id": "hYJAjQ9fkg_y"
      }
    },
    {
      "cell_type": "markdown",
      "source": [
        "#### #3.What is an object in OOP?\n",
        "##### #Ans.In Object-Oriented Programming (OOP),an object is an instance of a class.It represents a specific entity with its own attributes (data or properties) and methods (functions or behaviors).While a class defines the blueprint for objects each object created from the class can hold unique values for its attributes and perform the actions defined by its methods.Objects are the fundamental building blocks of OOP encapsulating both data and behavior."
      ],
      "metadata": {
        "id": "ujd5rugSlPjZ"
      }
    },
    {
      "cell_type": "markdown",
      "source": [
        "#### #4.What is the difference between abstraction and encapsulation?\n",
        "##### #Ans.Abstraction and encapsulation are both key concepts in Object-Oriented Programming (OOP) but they focus on different aspects of how data and functionality are organized and accessed.\n",
        "\n",
        "1.Abstraction refers to the process of hiding the complex implementation details of an object and exposing only the necessary and relevant information to the user.It simplifies interaction with an object by allowing users to focus on what an object does rather than how it does it.Abstraction is about defining what an object can do not how it does it. It can be achieved using abstract classes or interfaces.On the other hand,Encapsulation refers to bundling an object's data (attributes) and methods (functions) into a single unit (the object) and restricting direct access to some of its components to protect the data from unintended interference or misuse.Encapsulation is about controlling access to the object's internal state using access modifiers (like private,public,protected) and providing controlled access via getter and setter methods."
      ],
      "metadata": {
        "id": "NqsuPL3El_Gb"
      }
    },
    {
      "cell_type": "markdown",
      "source": [
        "#### #5.What are dunder methods in Python?\n",
        "##### #Ans.In Python,dunder methods (short for \"double underscore\" methods) are special methods that have double underscores before and after their names such as init,str,add etc.These methods are used to define or customize the behavior of objects for specific operations such as initialization,string representation,arithmetic operations and more.Dunder methods enable you to define how objects of your class behave in built-in operations like addition,string formatting and comparisons."
      ],
      "metadata": {
        "id": "nbU8Y45im-D7"
      }
    },
    {
      "cell_type": "markdown",
      "source": [
        "#### #6.Explain the concept of inheritance in OOPF.\n",
        "##### #Ans.Inheritance in Object-Oriented Programming (OOP) is a mechanism that allows one class (called a subclass or child class) to inherit attributes and methods from another class (called a superclass or parent class).This allows the child class to reuse and extend the functionality of the parent class without having to rewrite code. Inheritance promotes code reuse, modularity, and the creation of hierarchical relationships between classes."
      ],
      "metadata": {
        "id": "-mVWl80voIGP"
      }
    },
    {
      "cell_type": "markdown",
      "source": [
        "#### #7.What is polymorphism in OOP?\n",
        "##### #Ans.Polymorphism in Object-Oriented Programming (OOP) refers to the ability of different classes to be treated as instances of a common superclass allowing the same method or operation to behave differently depending on the object it is acting upon.This can be achieved through method overriding, where a subclass provides its own implementation of a method from the parent class.Polymorphism enables flexible and dynamic behavior making it possible to call the same method on objects of different types with each object responding in its own way."
      ],
      "metadata": {
        "id": "6RRq9DKpplJ7"
      }
    },
    {
      "cell_type": "markdown",
      "source": [
        "#### #8.How is encapsulation achieved in Python?\n",
        "##### #Ans.In Python,encapsulation is the concept of keeping an object's data (like attributes) private and safe from outside interference.This is done by making the data private (using double underscores __ before the attribute name) and controlling how it can be accessed or changed through getter and setter methods.\n",
        "(Getter methods are used to get the value of a private attribute.)\\\n",
        "(Setter methods are used to set or change the value of a private attribute.)\\\n",
        "You can also use the @property decorator to make an attribute look like a regular public attribute while still controlling how it's accessed."
      ],
      "metadata": {
        "id": "k4A5oWqtqChx"
      }
    },
    {
      "cell_type": "markdown",
      "source": [
        "#### #9.What is a constructor in Python?\n",
        "##### #Ans.In Python,a constructor is a special method called (init)that is automatically invoked when an object is created from a class.Its primary purpose is to initialize the object's attributes with specific values or to perform setup tasks.The constructor allows you to define how an object should be initialized with data when it is instantiated.It can accept parameters to initialize the object with values at the time of creation."
      ],
      "metadata": {
        "id": "0mVy86m_rA47"
      }
    },
    {
      "cell_type": "markdown",
      "source": [
        "#### #10.What are class and static methods in Python?\n",
        "##### #Ans.In Python, class methods and static methods are methods that belong to the class itself rather than to instances of the class.\n",
        "\n",
        "1.Class Method:A class method is bound to the class and takes the class itself as its first argument (usually named cls).It is defined using the @classmethod decorator and can access or modify class-level attributes, but not instance-level attributes.\n",
        "\n",
        "2.Static Method:A static method is not bound to either the class or instance.It does not take (self or cls) as the first argument and is defined using the @staticmethod decorator.It behaves like a regular function that belongs to the class's namespace and is typically used for utility functions that don't need access to class or instance data."
      ],
      "metadata": {
        "id": "y7me8LgqrojO"
      }
    },
    {
      "cell_type": "markdown",
      "source": [
        "#### #11.What is method overloading in Python?\n",
        "##### #Ans.Method overloading in python refers to the ability to define multiple methods with the same name but different parameters (e.g. different numbers or types of arguments).However,Python does not support traditional method overloading like other languages (e.g., Java or C++). In Python,if multiple methods with the same name are defined,the last one overrides the previous ones."
      ],
      "metadata": {
        "id": "cHnSYrEtsQlt"
      }
    },
    {
      "cell_type": "markdown",
      "source": [
        "#### #12.What is method overriding in OOP?\n",
        "##### #Ans.Method overriding in Object-Oriented Programming (OOP) occurs when a subclass provides its own implementation of a method that is already defined in its parent class.This allows the subclass to modify or extend the behavior of the inherited method.Method overriding is achieved by defining a method in the subclass with the same name,parameters and signature as the method in the parent class allowing the subclass's version of the method to be called instead of the parent class's version.Method overriding enables polymorphism allowing objects of the subclass to have different behavior than objects of the parent class when the same method is called.\n",
        "\n",
        "\n",
        "\n"
      ],
      "metadata": {
        "id": "7LVcRK2os0Bx"
      }
    },
    {
      "cell_type": "markdown",
      "source": [
        "#### #13.What is a property decorator in Python?\n",
        "##### #Ans.In Python, the property decorator is used to define methods that can be accessed like attributes, allowing controlled access to an object's internal data. It enables you to define getter methods (using @property) that return a value as if it were an attribute, and setter methods (using @property_name.setter) to control how the attribute is set. This is useful for adding validation or computation while hiding the underlying method calls from the user. It allows for better encapsulation and clean access to data."
      ],
      "metadata": {
        "id": "y4h-TFGDtu6R"
      }
    },
    {
      "cell_type": "markdown",
      "source": [
        "#### #14.Why is polymorphism important in OOP?\n",
        "##### #Ans.Polymorphism is important in Object-Oriented Programming (OOP) because it allows objects of different classes to be treated as instances of a common superclass enabling flexibility and scalability.It promotes code reusability by allowing the same method to operate on different types of objects.Polymorphism also simplifies code as it enables handling different objects in a uniform way and supports extensibility allowing new classes to be added without changing existing code.It enhances the dynamic behavior of a system by allowing methods to behave differently depending on the object's actual class."
      ],
      "metadata": {
        "id": "8GB0w1lav_tD"
      }
    },
    {
      "cell_type": "markdown",
      "source": [
        "#### #15.What is an abstract class in Python?\n",
        "##### #Ans.An abstract class in Python is a class that cannot be instantiated directly and serves as a blueprint for other classes.It is used to define common methods that must be implemented by its subclasses. Abstract classes are created using the ABC (Abstract Base Class) module and abstract methods within the class are marked with the @abstractmethod decorator.Subclasses of an abstract class are required to implement all abstract methods in order to be instantiated.An abstract class allows you to enforce a consistent interface across multiple subclasses while providing some common functionality."
      ],
      "metadata": {
        "id": "M-W8Z5o7wpTC"
      }
    },
    {
      "cell_type": "markdown",
      "source": [
        "#### #16.What are the advantages of OOP?\n",
        "##### #Ans.The advantages of Object-Oriented Programming (OOP) are:\n",
        "\n",
        "Modularity:OOP lets you divide a program into smaller,self-contained parts (called objects), making it easier to manage and work with.\\\n",
        "Reusability:You can reuse code from existing classes in new projects, saving time and effort.You can also create new classes that inherit features from old ones.\\\n",
        "Maintainability:Since objects are self-contained,you can make changes to one part of the program without affecting the rest making the program easier to maintain.\n",
        "Scalability:OOP makes it easier to add new features or objects to a program without breaking what already works.\\\n",
        "Abstraction:OOP allows you to hide complex details and only show the necessary features making it easier to use and understand objects.\n",
        "Encapsulation:It keeps data and the functions that work with that data together in objects,protecting the data from being changed in unintended ways.\\\n",
        "Polymorphism:OOP allows objects of different types to use the same method in different ways making the code more flexible and easier to work with.\\\n",
        "In simple terms, OOP helps make programs easier to build, understand, and modify by organizing them into manageable and reusable parts.\n",
        "\n",
        "\n",
        "\n"
      ],
      "metadata": {
        "id": "JAddj-lkxTNM"
      }
    },
    {
      "cell_type": "markdown",
      "source": [
        "#### #17.What is the difference between a class variable and an instance variable?\n",
        "##### #Ans.The difference between a class variable and an instance variable is as follows:\n",
        "\n",
        "Class Variable:A class variable is defined within a class and is shared by all instances (objects) of that class.It is accessed using the class name or through any instance and any change to the class variable affects all instances.\n",
        "\n",
        "Instance Variable:An instance variable is specific to each object created from the class.It is defined inside the \"init\" method (constructor) using self and each instance has its own separate copy of the variable.Changes to an instance variable only affect that particular instance, not others.\n"
      ],
      "metadata": {
        "id": "rOHPN-tYyd4a"
      }
    },
    {
      "cell_type": "markdown",
      "source": [
        "#### #18.What is multiple inheritance in Python?\n",
        "##### #Ans.Multiple inheritance in python is a feature that allows a class to inherit from more than one parent class.This means a subclass can acquire attributes and methods from multiple base classes allowing for greater flexibility and code reuse.When multiple parent classes have methods or attributes with the same name,Python uses the class resolution order (CRO) to determine which method or attribute is accessed.Multiple inheritance enables the combination of different functionalities into a single class but it can also introduce complexity when managing conflicting behaviors."
      ],
      "metadata": {
        "id": "hS4-9K-nzTg1"
      }
    },
    {
      "cell_type": "markdown",
      "source": [
        "#### #19.Explain the purpose of \"__ str __ 'and' __ repr __\" methods in Python.\n",
        "##### #Ans.In Python,the __ str __ and __ repr __ methods are used to define how an object is represented as a string but they serve different purposes:\n",
        "\n",
        "The __ str __ method is intended to provide a user-friendly,informal string representation of an object,typically used when printing or converting an object to a string (e.g., via print() or str()).\\\n",
        "The __ repr __ method is intended to provide a formal, unambiguous string representation of an object, typically used for debugging or development purposes. It should ideally return a string that, when passed to the eval() function, would recreate the object.\\\n",
        "In summary, __ str __ is for human-readable output, while __ repr __ is for a more technical or detailed representation aimed at developers."
      ],
      "metadata": {
        "id": "41nwxazFz2ZU"
      }
    },
    {
      "cell_type": "markdown",
      "source": [
        "#### #20.What is the significance of the 'super()' function in Python?\n",
        "##### #Ans.The super() function in Python is used to call methods from a parent (or superclass) in a child (or subclass) class.It is primarily used in inheritance to invoke methods from a parent class allowing a subclass to extend or override the behavior of the parent class methods while still maintaining access to the parent class's functionality.\n",
        "\n",
        "Significance of super():\\\n",
        "Access Parent Class Methods:super() allows a subclass to call a method from its superclass ensuring that the parent class's logic is executed without explicitly naming the parent class.\n",
        "\n",
        "Avoid Redundancy:It helps in avoiding code duplication by enabling a subclass to extend the functionality of the parent class methods rather than repeating the same code.\n",
        "\n",
        "Multiple Inheritance:In the case of multiple inheritance,super() ensures that the methods from all the parent classes are called in a consistent order as per the method resolution order (MRO) allowing for cleaner and more maintainable code.\n",
        "\n",
        "Cleaner Code:Using super() makes the code more maintainable and flexible especially when the class hierarchy changes as it avoids hardcoding the parent class name."
      ],
      "metadata": {
        "id": "WNzHEhsj2Amp"
      }
    },
    {
      "cell_type": "markdown",
      "source": [
        "#### #21.What is the significance of the __ del __ method in Python?\n",
        "##### #Ans.The __ del __ method in Python is a special method that is called when an object is about to be destroyed or garbage collected.It is commonly referred to as a destructor.The purpose of __ del __ is to allow you to clean up resources or perform any necessary finalization before an object is removed from memory.\n",
        "\n",
        "Significance of __ del __ :\\\n",
        "Resource Cleanup:It can be used to release external resources such as files,network connections or database connections when an object is no longer needed.\n",
        "\n",
        "Memory Management:While Python has automatic garbage collection,the __ del __ method allows for custom behavior when an object is deleted such as releasing resources manually if needed.\n",
        "\n",
        "Custom Object Deletion:It enables you to define specific behavior for when an object is deleted which can be useful in managing complex objects that hold non-memory resources."
      ],
      "metadata": {
        "id": "UHJ4ln6-23m4"
      }
    },
    {
      "cell_type": "markdown",
      "source": [
        "#### #22.What is the difference between @staticmethod and @classmethod in Python?\n",
        "##### #Ans.The @staticmethod and @classmethod decorators in Python are used to define methods that are not bound to an instance but they differ in their functionality:\n",
        "\n",
        "@staticmethod:A static method does not take any special first argument (like self or cls).It behaves like a regular function but is part of the class's namespace.It cannot access or modify class or instance attributes and is used when the method's functionality is related to the class but does not require access to class or instance data.\n",
        "\n",
        "@classmethod:A class method takes a special first argument cls which refers to the class itself.It can access and modify class-level attributes but cannot access instance-level attributes.It is used when the method needs to work with class-level data or when creating alternative constructors."
      ],
      "metadata": {
        "id": "HqDvHZxK5Sdf"
      }
    },
    {
      "cell_type": "markdown",
      "source": [
        "#### #23.How does polymorphism work in Python with inheritance?\n",
        "##### #Ans.Polymorphism in python with inheritance works by allowing objects of different classes to be treated as objects of a common superclass.Through polymorphism methods in the subclass can have the same name as those in the parent class but can be implemented in different ways enabling different behaviors depending on the object's type.\n",
        "\n",
        "How it works:\\\n",
        "Overriding Methods:A subclass can override a method of the parent class, meaning it provides its own implementation of a method that was already defined in the superclass.\\\n",
        "Dynamic Method Binding:Python uses dynamic typing and method resolution order (MRO) to call the appropriate method based on the actual object type at runtime and not the reference type."
      ],
      "metadata": {
        "id": "WxdVB2lT5M5D"
      }
    },
    {
      "cell_type": "markdown",
      "source": [
        "#### #24.What is method chaining in Python OOP?\n",
        "##### #Ans.Method chaining in python OOP is a technique where multiple methods are called on the same object in a single line with each method returning the object itself (typically self).This allows subsequent methods to be called in sequence without needing to reference the object again.It is commonly used for performing multiple operations on the same object in a more concise and readable way often seen in scenarios like setting attributes or applying a series of transformations."
      ],
      "metadata": {
        "id": "CHP55KAy7I7c"
      }
    },
    {
      "cell_type": "markdown",
      "source": [
        "#### #25.What is the purpose of the __ call __ method in Python?\n",
        "##### #Ans.The __ call __ method in python is a special method that allows an instance of a class to be called as if it were a function.When you define the __ call __ method in a class,you enable instances of that class to behave like callable objects,meaning you can use parentheses() to invoke them just like calling a regular function.\n",
        "\n",
        "Purpose of __ call __ :\\\n",
        "Callable Objects:It allows instances of a class to be called directly making the class behave like a function.\\\n",
        "Flexibility:This method provides flexibility by allowing objects to perform specific actions when called while also enabling dynamic behavior or argument handling.\\\n",
        "Enhances Object Behavior:It can be used to implement behavior where an object can act as a function or be used as a callback function.For example,in scenarios like event handling or functional programming patterns."
      ],
      "metadata": {
        "id": "qzZg3C_E8M3u"
      }
    },
    {
      "cell_type": "markdown",
      "source": [
        "# Practical Questions"
      ],
      "metadata": {
        "id": "ZOhAHeC4--zt"
      }
    },
    {
      "cell_type": "code",
      "source": [
        "#1.Create a parent class Animal with a method speak() that prints a generic message. Create a child class Dog that overrides the speak() method to print \"Bark!\"\n",
        "#Parent class\n",
        "class Animal:\n",
        "    def speak(self):\n",
        "        print(\"This is a generic animal sound.\")\n",
        "\n",
        "# Child class\n",
        "class Dog(Animal):\n",
        "    def speak(self):\n",
        "        print(\"Bark!\")\n",
        "\n",
        "animal = Animal()\n",
        "animal.speak()  # Output:This is a generic animal sound.\n",
        "\n",
        "dog = Dog()\n",
        "dog.speak()  # Output:Bark!"
      ],
      "metadata": {
        "colab": {
          "base_uri": "https://localhost:8080/"
        },
        "id": "c9AnI4h8_K97",
        "outputId": "23221fef-f735-4b54-ffcc-8fa862f29d9f"
      },
      "execution_count": 4,
      "outputs": [
        {
          "output_type": "stream",
          "name": "stdout",
          "text": [
            "This is a generic animal sound.\n",
            "Bark!\n"
          ]
        }
      ]
    },
    {
      "cell_type": "code",
      "source": [
        "#2.Write a program to create an abstract class Shape with a method area(). Derive classes Circle and Rectangle from it and implement the area() method in both.\n",
        "from abc import ABC, abstractmethod\n",
        "import math\n",
        "\n",
        "# Abstract class\n",
        "class Shape(ABC):\n",
        "    @abstractmethod\n",
        "    def area(self):\n",
        "        pass\n",
        "\n",
        "# Derived class for Circle\n",
        "class Circle(Shape):\n",
        "    def __init__(self, radius):\n",
        "        self.radius = radius\n",
        "\n",
        "    def area(self):\n",
        "        return math.pi * (self.radius ** 2)\n",
        "\n",
        "# Derived class for Rectangle\n",
        "class Rectangle(Shape):\n",
        "    def __init__(self, length, width):\n",
        "        self.length = length\n",
        "        self.width = width\n",
        "\n",
        "    def area(self):\n",
        "        return self.length * self.width\n",
        "\n",
        "circle = Circle(7)  # Circle with radius 7\n",
        "rectangle = Rectangle(5, 6)  # Rectangle with length 5 and width 6\n",
        "\n",
        "print(f\"Area of Circle: {circle.area():.2f}\")  # Output: Area of Circle:153.94\n",
        "print(f\"Area of Rectangle: {rectangle.area()}\")  # Output: Area of Rectangle:30\n"
      ],
      "metadata": {
        "colab": {
          "base_uri": "https://localhost:8080/"
        },
        "id": "M6jp_8BSBuEG",
        "outputId": "dd7bee0f-5ba1-4d2a-b4ee-1971e9e9ce32"
      },
      "execution_count": 7,
      "outputs": [
        {
          "output_type": "stream",
          "name": "stdout",
          "text": [
            "Area of Circle: 153.94\n",
            "Area of Rectangle: 30\n"
          ]
        }
      ]
    },
    {
      "cell_type": "code",
      "source": [
        "#3.Implement a multi-level inheritance scenario where a class Vehicle has an attribute type. Derive a class Car and further derive a class ElectricCar that adds a battery attribute.\n",
        "# Base class\n",
        "class Vehicle:\n",
        "    def __init__(self, vehicle_type):\n",
        "        self.vehicle_type = vehicle_type\n",
        "\n",
        "    def display_type(self):\n",
        "        print(f\"Vehicle type: {self.vehicle_type}\")\n",
        "\n",
        "# Intermediate class\n",
        "class Car(Vehicle):\n",
        "    def __init__(self, vehicle_type, brand):\n",
        "        super().__init__(vehicle_type)\n",
        "        self.brand = brand\n",
        "\n",
        "    def display_car_details(self):\n",
        "        print(f\"Car brand: {self.brand}\")\n",
        "\n",
        "# Derived class\n",
        "class ElectricCar(Car):\n",
        "    def __init__(self, vehicle_type, brand, battery_capacity):\n",
        "        super().__init__(vehicle_type, brand)\n",
        "        self.battery_capacity = battery_capacity\n",
        "\n",
        "    def display_electric_car_details(self):\n",
        "        print(f\"Battery capacity: {self.battery_capacity} kWh\")\n",
        "\n",
        "vehicle = Vehicle(\"General\")\n",
        "vehicle.display_type()\n",
        "\n",
        "car = Car(\"Car\", \"Ford\")\n",
        "car.display_type()\n",
        "car.display_car_details()\n",
        "\n",
        "electric_car = ElectricCar(\"Electric Car\", \"Tesla\", 100)\n",
        "electric_car.display_type()  # Output: Vehicle type:Electric Car\n",
        "electric_car.display_car_details()  # Output: Car brand:Tesla\n",
        "electric_car.display_electric_car_details()  # Output: Battery capacity:100 kWh\n"
      ],
      "metadata": {
        "colab": {
          "base_uri": "https://localhost:8080/"
        },
        "id": "h0slKmNtDMul",
        "outputId": "d19468d6-522f-49d5-e448-f714ff9aec6a"
      },
      "execution_count": 9,
      "outputs": [
        {
          "output_type": "stream",
          "name": "stdout",
          "text": [
            "Vehicle type: General\n",
            "Vehicle type: Car\n",
            "Car brand: Ford\n",
            "Vehicle type: Electric Car\n",
            "Car brand: Tesla\n",
            "Battery capacity: 100 kWh\n"
          ]
        }
      ]
    },
    {
      "cell_type": "code",
      "source": [
        "#4.Implement a multi-level inheritance scenario where a class Vehicle has an attribute type. Derive a class Car and further derive a class ElectricCar that adds a battery attribute.\n",
        "# Base class\n",
        "class Vehicle:\n",
        "    def __init__(self, vehicle_type):\n",
        "        self.vehicle_type = vehicle_type\n",
        "\n",
        "    def display_type(self):\n",
        "        print(f\"Vehicle type: {self.vehicle_type}\")\n",
        "\n",
        "# Intermediate class\n",
        "class Car(Vehicle):\n",
        "    def __init__(self, vehicle_type, brand):\n",
        "        super().__init__(vehicle_type)\n",
        "        self.brand = brand\n",
        "\n",
        "    def display_car_details(self):\n",
        "        print(f\"Car brand: {self.brand}\")\n",
        "\n",
        "# Derived class\n",
        "class ElectricCar(Car):\n",
        "    def __init__(self, vehicle_type, brand, battery_capacity):\n",
        "        super().__init__(vehicle_type, brand)\n",
        "        self.battery_capacity = battery_capacity\n",
        "\n",
        "    def display_electric_car_details(self):\n",
        "        print(f\"Battery capacity: {self.battery_capacity} kWh\")\n",
        "\n",
        "vehicle = Vehicle(\"General\")\n",
        "vehicle.display_type()\n",
        "\n",
        "car = Car(\"Car\", \"Ford\")\n",
        "car.display_type()\n",
        "car.display_car_details()\n",
        "\n",
        "electric_car = ElectricCar(\"Electric Car\", \"Tesla\", 82)\n",
        "electric_car.display_type()  # Output: Vehicle type:Electric Car\n",
        "electric_car.display_car_details()  # Output: Car brand:Tesla\n",
        "electric_car.display_electric_car_details()  # Output: Battery capacity:82 kWh\n"
      ],
      "metadata": {
        "colab": {
          "base_uri": "https://localhost:8080/"
        },
        "id": "hf90k1NWFYyr",
        "outputId": "73ca2278-5d79-4afc-a203-2b57512a3892"
      },
      "execution_count": 11,
      "outputs": [
        {
          "output_type": "stream",
          "name": "stdout",
          "text": [
            "Vehicle type: General\n",
            "Vehicle type: Car\n",
            "Car brand: Ford\n",
            "Vehicle type: Electric Car\n",
            "Car brand: Tesla\n",
            "Battery capacity: 82 kWh\n"
          ]
        }
      ]
    },
    {
      "cell_type": "code",
      "source": [
        "#5.Write a program to demonstrate encapsulation by creating a class BankAccount with private attributes balance and methods to deposit, withdraw, and check balance.\n",
        "class BankAccount:\n",
        "    def __init__(self, initial_balance):\n",
        "        self.__balance = initial_balance\n",
        "\n",
        "    # Method to deposit money into the account\n",
        "    def deposit(self, amount):\n",
        "        if amount > 0:\n",
        "            self.__balance += amount\n",
        "            print(f\"Deposited {amount}. New balance is {self.__balance}\")\n",
        "        else:\n",
        "            print(\"Deposit amount must be positive.\")\n",
        "\n",
        "    # Method to withdraw money from the account\n",
        "    def withdraw(self, amount):\n",
        "        if 0 < amount <= self.__balance:\n",
        "            self.__balance -= amount\n",
        "            print(f\"Withdrew {amount}. New balance is {self.__balance}\")\n",
        "        else:\n",
        "            print(\"Insufficient balance or invalid withdrawal amount.\")\n",
        "\n",
        "    # Method to check the balance\n",
        "    def check_balance(self):\n",
        "        print(f\"Current balance: {self.__balance}\")\n",
        "\n",
        "account = BankAccount(1000)\n",
        "\n",
        "# Perform operations\n",
        "account.deposit(1000)       # Deposit 1000\n",
        "account.withdraw(500)      # Withdraw 500\n",
        "account.check_balance()    # Check current balance\n"
      ],
      "metadata": {
        "colab": {
          "base_uri": "https://localhost:8080/"
        },
        "id": "6UPViiaUGi86",
        "outputId": "9b1fb832-9001-4eac-ba88-93419e4af3f8"
      },
      "execution_count": 13,
      "outputs": [
        {
          "output_type": "stream",
          "name": "stdout",
          "text": [
            "Deposited 1000. New balance is 2000\n",
            "Withdrew 500. New balance is 1500\n",
            "Current balance: 1500\n"
          ]
        }
      ]
    },
    {
      "cell_type": "code",
      "source": [
        "#6.Demonstrate runtime polymorphism using a method play() in a base class Instrument. Derive classes Guitar and Piano that implement their own version of play().\n",
        "# Base class\n",
        "class Instrument:\n",
        "    def play(self):\n",
        "        print(\"Playing an instrument.\")\n",
        "\n",
        "# Derived class for Guitar\n",
        "class Guitar(Instrument):\n",
        "    def play(self):\n",
        "        print(\"Playing the guitar.\")\n",
        "\n",
        "# Derived class for Piano\n",
        "class Piano(Instrument):\n",
        "    def play(self):\n",
        "        print(\"Playing the piano.\")\n",
        "\n",
        "# Function to demonstrate runtime polymorphism\n",
        "def play_instrument(instrument):\n",
        "    instrument.play()\n",
        "\n",
        "instrument = Instrument()\n",
        "guitar = Guitar()\n",
        "piano = Piano()\n",
        "\n",
        "play_instrument(instrument)  # Output: Playing an instrument.\n",
        "play_instrument(guitar)      # Output: Playing the guitar.\n",
        "play_instrument(piano)       # Output: Playing the piano."
      ],
      "metadata": {
        "colab": {
          "base_uri": "https://localhost:8080/"
        },
        "id": "Uucxp_xEILi3",
        "outputId": "3c9a51e0-519b-4582-d109-d4e34e602662"
      },
      "execution_count": 15,
      "outputs": [
        {
          "output_type": "stream",
          "name": "stdout",
          "text": [
            "Playing an instrument.\n",
            "Playing the guitar.\n",
            "Playing the piano.\n"
          ]
        }
      ]
    },
    {
      "cell_type": "code",
      "source": [
        "#7.Create a class MathOperations with a class method add_numbers() to add two numbers and a static method subtract_numbers() to subtract two numbers.\n",
        "class MathOperations:\n",
        "    @classmethod\n",
        "    def add_numbers(cls, a, b):\n",
        "        # Class method to add two numbers\n",
        "        return a + b\n",
        "\n",
        "    @staticmethod\n",
        "    def subtract_numbers(a, b):\n",
        "        # Static method to subtract two numbers\n",
        "        return a - b\n",
        "\n",
        "# Using the class method and static method\n",
        "sum_result = MathOperations.add_numbers(12, 5)\n",
        "difference_result = MathOperations.subtract_numbers(12, 5)\n",
        "\n",
        "print(f\"Sum: {sum_result}\")          # Output: Sum: 17\n",
        "print(f\"Difference: {difference_result}\")  # Output: Difference: 7\n"
      ],
      "metadata": {
        "colab": {
          "base_uri": "https://localhost:8080/"
        },
        "id": "ZYnJrzqCJgu1",
        "outputId": "968378c5-f98d-4792-9ef3-908f5814c0e8"
      },
      "execution_count": 16,
      "outputs": [
        {
          "output_type": "stream",
          "name": "stdout",
          "text": [
            "Sum: 17\n",
            "Difference: 7\n"
          ]
        }
      ]
    },
    {
      "cell_type": "code",
      "source": [
        "#8.Implement a class Person with a class method to count the total number of persons created.\n",
        "class Person:\n",
        "    # Class-level attribute to track the count of persons\n",
        "    person_count = 0\n",
        "\n",
        "    def __init__(self, name):\n",
        "        self.name = name\n",
        "        # Increment the count whenever a new Person object is created\n",
        "        Person.person_count += 1\n",
        "\n",
        "    @classmethod\n",
        "    def get_person_count(cls):\n",
        "        return cls.person_count\n",
        "\n",
        "# Testing the Person class\n",
        "person1 = Person(\"Kartik\")\n",
        "person2 = Person(\"Jay\")\n",
        "person3 = Person(\"Chinmay\")\n",
        "\n",
        "print(f\"Total persons created: {Person.get_person_count()}\")  # Output: Total persons created: 3"
      ],
      "metadata": {
        "colab": {
          "base_uri": "https://localhost:8080/"
        },
        "id": "6a8WgeJfKRh1",
        "outputId": "fd4bf8be-642c-4470-a516-87580b0f1059"
      },
      "execution_count": 17,
      "outputs": [
        {
          "output_type": "stream",
          "name": "stdout",
          "text": [
            "Total persons created: 3\n"
          ]
        }
      ]
    },
    {
      "cell_type": "code",
      "source": [
        "#9.Write a class Fraction with attributes numerator and denominator. Override the str method to display the fraction as \"numerator/denominator\".\n",
        "class Fraction:\n",
        "    def __init__(self, numerator, denominator):\n",
        "        self.numerator = numerator\n",
        "        self.denominator = denominator\n",
        "\n",
        "    def __str__(self):\n",
        "        return f\"{self.numerator}/{self.denominator}\"\n",
        "\n",
        "# Testing the Fraction class\n",
        "fraction1 = Fraction(5, 10)\n",
        "fraction2 = Fraction(2, 8)\n",
        "\n",
        "print(f\"Fraction 1: {fraction1}\")  # Output: Fraction 1: 5/10\n",
        "print(f\"Fraction 2: {fraction2}\")  # Output: Fraction 2: 2/8\n"
      ],
      "metadata": {
        "colab": {
          "base_uri": "https://localhost:8080/"
        },
        "id": "-7ENDGbSKrbd",
        "outputId": "3af0f68d-8fc8-4cd1-f5f4-ae0ba8d5f640"
      },
      "execution_count": 18,
      "outputs": [
        {
          "output_type": "stream",
          "name": "stdout",
          "text": [
            "Fraction 1: 5/10\n",
            "Fraction 2: 2/8\n"
          ]
        }
      ]
    },
    {
      "cell_type": "code",
      "source": [
        "#10.Demonstrate operator overloading by creating a class Vector and overriding the add method to add two vectors.\n",
        "class Vector:\n",
        "    def __init__(self, x, y):\n",
        "        self.x = x\n",
        "        self.y = y\n",
        "\n",
        "    # Overloading the + operator to add two vectors\n",
        "    def __add__(self, other):\n",
        "        if isinstance(other, Vector):\n",
        "            return Vector(self.x + other.x, self.y + other.y)\n",
        "        return NotImplemented\n",
        "\n",
        "    def __str__(self):\n",
        "        return f\"Vector({self.x}, {self.y})\"\n",
        "\n",
        "# Creating two vector instances\n",
        "vector1 = Vector(5, 9)\n",
        "vector2 = Vector(3, 4)\n",
        "\n",
        "# Adding two vectors using the overloaded + operator\n",
        "result_vector = vector1 + vector2\n",
        "\n",
        "# Displaying the result\n",
        "print(f\"Vector 1: {vector1}\")\n",
        "print(f\"Vector 2: {vector2}\")\n",
        "print(f\"Result of vector addition: {result_vector}\")"
      ],
      "metadata": {
        "colab": {
          "base_uri": "https://localhost:8080/"
        },
        "id": "wanDFpM7LUUU",
        "outputId": "263d143c-b114-4bd9-b605-6b1530328fdf"
      },
      "execution_count": 21,
      "outputs": [
        {
          "output_type": "stream",
          "name": "stdout",
          "text": [
            "Vector 1: Vector(5, 9)\n",
            "Vector 2: Vector(3, 4)\n",
            "Result of vector addition: Vector(8, 13)\n"
          ]
        }
      ]
    },
    {
      "cell_type": "code",
      "source": [
        "#11.Create a class Person with attributes name and age. Add a method greet() that prints \"Hello, my name is {name} and I am {age} years old.\"\n",
        "class Person:\n",
        "    def __init__(self, name, age):\n",
        "        self.name = name\n",
        "        self.age = age\n",
        "\n",
        "    def greet(self):\n",
        "        print(f\"Hello, my name is {self.name} and I am {self.age} years old.\")\n",
        "\n",
        "# Testing the Person class\n",
        "person1 = Person(\"Suyash\", 21)\n",
        "person2 = Person(\"Kaushik\", 20)\n",
        "\n",
        "person1.greet()  # Output: Hello, my name is Suyash and I am 21 years old.\n",
        "person2.greet()  # Output: Hello, my name is Kaushik and I am 20 years old."
      ],
      "metadata": {
        "colab": {
          "base_uri": "https://localhost:8080/"
        },
        "id": "pj59M3DPMSzP",
        "outputId": "07168a66-80cf-4986-fe36-824f5349fdb4"
      },
      "execution_count": 23,
      "outputs": [
        {
          "output_type": "stream",
          "name": "stdout",
          "text": [
            "Hello, my name is Suyash and I am 21 years old.\n",
            "Hello, my name is Kaushik and I am 20 years old.\n"
          ]
        }
      ]
    },
    {
      "cell_type": "code",
      "source": [
        "#12.Implement a class Student with attributes name and grades. Create a method average_grade() to compute the average of the grades.\n",
        "class Student:\n",
        "    def __init__(self, name, grades):\n",
        "        self.name = name\n",
        "        self.grades = grades  # grades is a list of numbers\n",
        "\n",
        "    def average_grade(self):\n",
        "        if len(self.grades) == 0:\n",
        "            return 0  # Return 0 if no grades are provided\n",
        "        return sum(self.grades) / len(self.grades)\n",
        "\n",
        "# Testing the Student class\n",
        "student1 = Student(\"Aryan\", [78, 82, 81, 90])\n",
        "student2 = Student(\"Yash\", [77, 84, 75, 83])\n",
        "\n",
        "print(f\"{student1.name}'s average grade: {student1.average_grade():.2f}\")  # Output: Aryan's average grade: 82.75\n",
        "print(f\"{student2.name}'s average grade: {student2.average_grade():.2f}\")  # Output: Yash's average grade: 79.75\n",
        "\n",
        ""
      ],
      "metadata": {
        "colab": {
          "base_uri": "https://localhost:8080/"
        },
        "id": "-3B9EvA1NBcn",
        "outputId": "bf90729e-ca0b-45c9-f998-ab4007751683"
      },
      "execution_count": 25,
      "outputs": [
        {
          "output_type": "stream",
          "name": "stdout",
          "text": [
            "Aryan's average grade: 82.75\n",
            "Yash's average grade: 79.75\n"
          ]
        }
      ]
    },
    {
      "cell_type": "code",
      "source": [
        "#13.Create a class Rectangle with methods set_dimensions() to set the dimensions and area() to calculate the area.\n",
        "class Rectangle:\n",
        "    def __init__(self):\n",
        "        self.length = 0\n",
        "        self.width = 0\n",
        "\n",
        "    # Method to set the dimensions of the rectangle\n",
        "    def set_dimensions(self, length, width):\n",
        "        self.length = length\n",
        "        self.width = width\n",
        "\n",
        "    # Method to calculate the area of the rectangle\n",
        "    def area(self):\n",
        "        return self.length * self.width\n",
        "\n",
        "# Creating an instance of Rectangle\n",
        "rectangle = Rectangle()\n",
        "\n",
        "# Setting the dimensions of the rectangle\n",
        "rectangle.set_dimensions(5, 4)\n",
        "\n",
        "# Calculating and printing the area\n",
        "print(f\"The area of the rectangle is: {rectangle.area()}\")  # Output: 20\n"
      ],
      "metadata": {
        "colab": {
          "base_uri": "https://localhost:8080/"
        },
        "id": "NJ_0x1bTODXu",
        "outputId": "6dfd13b7-3fb5-46eb-9a46-cff9a503898d"
      },
      "execution_count": 26,
      "outputs": [
        {
          "output_type": "stream",
          "name": "stdout",
          "text": [
            "The area of the rectangle is: 20\n"
          ]
        }
      ]
    },
    {
      "cell_type": "code",
      "source": [
        "#14. Create a class Employee with a method calculate_salary() that computes the salary based on hours worked and hourly rate. Create a derived class Manager that adds a bonus to the salary.\n",
        "# Base class Employee\n",
        "class Employee:\n",
        "    def __init__(self, name, hours_worked, hourly_rate):\n",
        "        self.name = name\n",
        "        self.hours_worked = hours_worked\n",
        "        self.hourly_rate = hourly_rate\n",
        "\n",
        "    # Method to calculate salary\n",
        "    def calculate_salary(self):\n",
        "        return self.hours_worked * self.hourly_rate\n",
        "\n",
        "# Derived class Manager that adds a bonus\n",
        "class Manager(Employee):\n",
        "    def __init__(self, name, hours_worked, hourly_rate, bonus):\n",
        "        super().__init__(name, hours_worked, hourly_rate)  # Get details from Employee\n",
        "        self.bonus = bonus  # Bonus for the manager\n",
        "\n",
        "    # Override the calculate_salary method to include the bonus\n",
        "    def calculate_salary(self):\n",
        "        base_salary = super().calculate_salary()  # Salary from Employee class\n",
        "        return base_salary + self.bonus  # Add bonus to the salary\n",
        "\n",
        "# Create an Employee object\n",
        "employee = Employee(\"Rohit\", 30, 20)\n",
        "print(f\"Employee Salary: ${employee.calculate_salary()}\")  # Output: $600\n",
        "\n",
        "# Create a Manager object\n",
        "manager = Manager(\"Kevin\", 30, 25, 500)\n",
        "print(f\"Manager Salary: ${manager.calculate_salary()}\")  # Output: $1250\n"
      ],
      "metadata": {
        "colab": {
          "base_uri": "https://localhost:8080/"
        },
        "id": "Wmqw3lwmOguD",
        "outputId": "fea42913-ba7e-4c7a-97a1-cb80c9fa9b79"
      },
      "execution_count": 27,
      "outputs": [
        {
          "output_type": "stream",
          "name": "stdout",
          "text": [
            "Employee Salary: $600\n",
            "Manager Salary: $1250\n"
          ]
        }
      ]
    },
    {
      "cell_type": "code",
      "source": [
        "#15.Create a class Product with attributes name, price, and quantity. Implement a method total_price() that calculates the total price of the product.\n",
        "class Product:\n",
        "    def __init__(self, name, price, quantity):\n",
        "        self.name = name        # Name of the product\n",
        "        self.price = price      # Price of a single product\n",
        "        self.quantity = quantity  # Quantity of the product\n",
        "\n",
        "    # Method to calculate the total price\n",
        "    def total_price(self):\n",
        "        return self.price * self.quantity\n",
        "\n",
        "# Create a Product object\n",
        "product = Product(\"Dell G-15\", 2000, 3)\n",
        "\n",
        "# Calculate and print the total price\n",
        "print(f\"Total price of {product.name}: ${product.total_price()}\")  # Output: $6000\n"
      ],
      "metadata": {
        "colab": {
          "base_uri": "https://localhost:8080/"
        },
        "id": "VVvVPfFjP57r",
        "outputId": "0a64d389-cb01-49af-be9f-63c8cd24a854"
      },
      "execution_count": 29,
      "outputs": [
        {
          "output_type": "stream",
          "name": "stdout",
          "text": [
            "Total price of Dell G-15: $6000\n"
          ]
        }
      ]
    },
    {
      "cell_type": "code",
      "source": [
        "#16.Create a class Animal with an abstract method sound(). Create two derived classes Cow and Sheep that implement the sound() method.\n",
        "from abc import ABC, abstractmethod\n",
        "\n",
        "# Abstract class Animal\n",
        "class Animal(ABC):\n",
        "    @abstractmethod\n",
        "    def sound(self):\n",
        "        pass\n",
        "\n",
        "# Derived class Cow\n",
        "class Cow(Animal):\n",
        "    def sound(self):\n",
        "        return \"Mooo\"\n",
        "\n",
        "# Derived class Sheep\n",
        "class Sheep(Animal):\n",
        "    def sound(self):\n",
        "        return \"Baa\"\n",
        "\n",
        "# Create instances of Cow and Sheep\n",
        "cow = Cow()\n",
        "sheep = Sheep()\n",
        "\n",
        "# Call the sound() method for both animals\n",
        "print(f\"Cow sound: {cow.sound()}\")  # Output: Mooo\n",
        "print(f\"Sheep sound: {sheep.sound()}\")  # Output: Baa\n"
      ],
      "metadata": {
        "colab": {
          "base_uri": "https://localhost:8080/"
        },
        "id": "wcGcbvlGRHvn",
        "outputId": "ec9eec42-da51-45a8-9b2a-c976697fc191"
      },
      "execution_count": 30,
      "outputs": [
        {
          "output_type": "stream",
          "name": "stdout",
          "text": [
            "Cow sound: Mooo\n",
            "Sheep sound: Baa\n"
          ]
        }
      ]
    },
    {
      "cell_type": "code",
      "source": [
        "#17. Create a class Book with attributes title, author, and year_published. Add a method get_book_info() that returns a formatted string with the book's details.\n",
        "class Book:\n",
        "    def __init__(self, title, author, year_published):\n",
        "        self.title = title            # Title of the book\n",
        "        self.author = author          # Author of the book\n",
        "        self.year_published = year_published  # Year the book was published\n",
        "\n",
        "    # Method to get book details in a formatted string\n",
        "    def get_book_info(self):\n",
        "        return f\"Title: {self.title}, Author: {self.author}, Year Published: {self.year_published}\"\n",
        "\n",
        "# Create a Book object\n",
        "book = Book(\"Psychology of Money\", \"Morgan Housel\", 2020)\n",
        "\n",
        "# Get and print the book details\n",
        "print(book.get_book_info())  # Output: Title:Psychology of Money , Author:Morgan Housel, Year Published:2020\n"
      ],
      "metadata": {
        "colab": {
          "base_uri": "https://localhost:8080/"
        },
        "id": "BfsXXMx9RoE6",
        "outputId": "ee7f2bd6-f74c-46b2-89fa-7f1153ec87c7"
      },
      "execution_count": 31,
      "outputs": [
        {
          "output_type": "stream",
          "name": "stdout",
          "text": [
            "Title: Psychology of Money, Author: Morgan Housel, Year Published: 2020\n"
          ]
        }
      ]
    },
    {
      "cell_type": "code",
      "source": [
        "#18.Create a class House with attributes address and price. Create a derived class Mansion that adds an attribute number_of_rooms.\n",
        "# Base class House\n",
        "class House:\n",
        "    def __init__(self, address, price):\n",
        "        self.address = address  # Address of the house\n",
        "        self.price = price      # Price of the house\n",
        "\n",
        "    def get_info(self):\n",
        "        return f\"Address: {self.address}, Price: ${self.price}\"\n",
        "\n",
        "# Derived class Mansion that adds the number_of_rooms attribute\n",
        "class Mansion(House):\n",
        "    def __init__(self, address, price, number_of_rooms):\n",
        "        super().__init__(address, price)  # Initialize base class attributes\n",
        "        self.number_of_rooms = number_of_rooms  # Additional attribute for Mansion\n",
        "\n",
        "    def get_info(self):\n",
        "        # Include number_of_rooms in the information\n",
        "        base_info = super().get_info()  # Get info from the House class\n",
        "        return f\"{base_info}, Number of Rooms: {self.number_of_rooms}\"\n",
        "\n",
        "# Create an instance of House\n",
        "house = House(\"4537 Pine Rd.\", 280000)\n",
        "\n",
        "# Create an instance of Mansion\n",
        "mansion = Mansion(\"1274 Sunset Blvd.\", 7000000, 15)\n",
        "\n",
        "# Print the details of House and Mansion\n",
        "print(house.get_info())  # Output: Address: 4537 Pine Rd., Price: $280000\n",
        "print(mansion.get_info())  # Output: Address: 1274 Sunset Blvd., Price: $7000000, Number of Rooms: 15\n"
      ],
      "metadata": {
        "colab": {
          "base_uri": "https://localhost:8080/"
        },
        "id": "jzKUy7MWTL0d",
        "outputId": "dc5c74d9-ef09-4134-8888-0b22e7206592"
      },
      "execution_count": 32,
      "outputs": [
        {
          "output_type": "stream",
          "name": "stdout",
          "text": [
            "Address: 4537 Pine Rd., Price: $280000\n",
            "Address: 1274 Sunset Blvd., Price: $7000000, Number of Rooms: 15\n"
          ]
        }
      ]
    },
    {
      "cell_type": "markdown",
      "source": [],
      "metadata": {
        "id": "Esy60kycoCVH"
      }
    }
  ]
}